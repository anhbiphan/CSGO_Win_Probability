{
 "cells": [
  {
   "cell_type": "markdown",
   "metadata": {},
   "source": [
    "# CSGO Win Predictions\n",
    "\n",
    "### Introduction:\n",
    "\n",
    "#### Data Manipulation:\n",
    "* Feature Engineering\n",
    "* Train on whole data and predict.\n",
    "* Changing train data time frame, and testing on 2019 to recent date\n",
    "\n",
    "#### Modeling:\n",
    "* LogisticRegression\n",
    "* MLPClassifier\n",
    "* GaussianNB\n",
    "* GradientBoostingClassifier\n",
    "* RandomForestClassifier\n",
    "* Support Vector Machine(Classifier) SVC"
   ]
  },
  {
   "cell_type": "code",
   "execution_count": 1,
   "metadata": {},
   "outputs": [],
   "source": [
    "import pandas as pd\n",
    "import numpy as np\n",
    "\n",
    "from sklearn.linear_model import LogisticRegression\n",
    "from sklearn.preprocessing import StandardScaler, OneHotEncoder\n",
    "from sklearn.metrics import plot_confusion_matrix\n",
    "from sklearn.metrics import accuracy_score, roc_auc_score \n",
    "from sklearn.model_selection import train_test_split\n",
    "from sklearn.pipeline import make_pipeline\n",
    "\n",
    "import trueskill\n",
    "\n",
    "import matplotlib.pyplot as plt\n",
    "%matplotlib inline\n",
    "\n",
    "import warnings\n",
    "warnings.filterwarnings(\"ignore\")"
   ]
  },
  {
   "cell_type": "code",
   "execution_count": 2,
   "metadata": {},
   "outputs": [],
   "source": [
    "match_df = pd.read_csv('CSGO_TEAMS_MATCHES.csv')"
   ]
  },
  {
   "cell_type": "code",
   "execution_count": 3,
   "metadata": {},
   "outputs": [],
   "source": [
    "rank_df = pd.read_csv('CSGO_TEAMS_RANKS.csv')"
   ]
  },
  {
   "cell_type": "code",
   "execution_count": 4,
   "metadata": {
    "scrolled": true
   },
   "outputs": [
    {
     "data": {
      "text/html": [
       "<div>\n",
       "<style scoped>\n",
       "    .dataframe tbody tr th:only-of-type {\n",
       "        vertical-align: middle;\n",
       "    }\n",
       "\n",
       "    .dataframe tbody tr th {\n",
       "        vertical-align: top;\n",
       "    }\n",
       "\n",
       "    .dataframe thead th {\n",
       "        text-align: right;\n",
       "    }\n",
       "</style>\n",
       "<table border=\"1\" class=\"dataframe\">\n",
       "  <thead>\n",
       "    <tr style=\"text-align: right;\">\n",
       "      <th></th>\n",
       "      <th>Date</th>\n",
       "      <th>Team1</th>\n",
       "      <th>Team2</th>\n",
       "      <th>Map</th>\n",
       "      <th>Event</th>\n",
       "      <th>Round1</th>\n",
       "      <th>Round2</th>\n",
       "      <th>Win1</th>\n",
       "      <th>Win2</th>\n",
       "      <th>Team1_rank_before</th>\n",
       "      <th>Team2_rank_before</th>\n",
       "      <th>Team1_rank_after</th>\n",
       "      <th>Team2_rank_after</th>\n",
       "    </tr>\n",
       "  </thead>\n",
       "  <tbody>\n",
       "    <tr>\n",
       "      <td>155179</td>\n",
       "      <td>2020-12-04</td>\n",
       "      <td>MIBR</td>\n",
       "      <td>HAVU</td>\n",
       "      <td>Vertigo</td>\n",
       "      <td>Flashpoint 1</td>\n",
       "      <td>8</td>\n",
       "      <td>16</td>\n",
       "      <td>1</td>\n",
       "      <td>0</td>\n",
       "      <td>32.044256</td>\n",
       "      <td>30.748435</td>\n",
       "      <td>31.938383</td>\n",
       "      <td>30.859731</td>\n",
       "    </tr>\n",
       "    <tr>\n",
       "      <td>155180</td>\n",
       "      <td>2020-12-04</td>\n",
       "      <td>Spirit</td>\n",
       "      <td>BIG</td>\n",
       "      <td>Mirage</td>\n",
       "      <td>Home Sweet Home Cup</td>\n",
       "      <td>4</td>\n",
       "      <td>16</td>\n",
       "      <td>1</td>\n",
       "      <td>0</td>\n",
       "      <td>32.529155</td>\n",
       "      <td>32.945705</td>\n",
       "      <td>32.439117</td>\n",
       "      <td>33.038264</td>\n",
       "    </tr>\n",
       "    <tr>\n",
       "      <td>155181</td>\n",
       "      <td>2020-12-04</td>\n",
       "      <td>Spirit</td>\n",
       "      <td>BIG</td>\n",
       "      <td>Inferno</td>\n",
       "      <td>Home Sweet Home Cup</td>\n",
       "      <td>16</td>\n",
       "      <td>10</td>\n",
       "      <td>0</td>\n",
       "      <td>1</td>\n",
       "      <td>32.439117</td>\n",
       "      <td>33.038264</td>\n",
       "      <td>32.545290</td>\n",
       "      <td>32.937420</td>\n",
       "    </tr>\n",
       "    <tr>\n",
       "      <td>155182</td>\n",
       "      <td>2020-12-04</td>\n",
       "      <td>Espada</td>\n",
       "      <td>Hard Legion</td>\n",
       "      <td>Mirage</td>\n",
       "      <td>LOOT.BET Season 6</td>\n",
       "      <td>22</td>\n",
       "      <td>25</td>\n",
       "      <td>1</td>\n",
       "      <td>0</td>\n",
       "      <td>27.678086</td>\n",
       "      <td>28.021915</td>\n",
       "      <td>27.589733</td>\n",
       "      <td>28.111512</td>\n",
       "    </tr>\n",
       "    <tr>\n",
       "      <td>155183</td>\n",
       "      <td>2020-12-04</td>\n",
       "      <td>Movistar Riders</td>\n",
       "      <td>Heretics</td>\n",
       "      <td>Vertigo</td>\n",
       "      <td>Cyber.Bet Cup</td>\n",
       "      <td>11</td>\n",
       "      <td>16</td>\n",
       "      <td>1</td>\n",
       "      <td>0</td>\n",
       "      <td>28.688588</td>\n",
       "      <td>30.714839</td>\n",
       "      <td>28.617960</td>\n",
       "      <td>30.784068</td>\n",
       "    </tr>\n",
       "  </tbody>\n",
       "</table>\n",
       "</div>"
      ],
      "text/plain": [
       "              Date            Team1        Team2      Map  \\\n",
       "155179  2020-12-04             MIBR         HAVU  Vertigo   \n",
       "155180  2020-12-04           Spirit          BIG   Mirage   \n",
       "155181  2020-12-04           Spirit          BIG  Inferno   \n",
       "155182  2020-12-04           Espada  Hard Legion   Mirage   \n",
       "155183  2020-12-04  Movistar Riders     Heretics  Vertigo   \n",
       "\n",
       "                      Event  Round1  Round2  Win1  Win2  Team1_rank_before  \\\n",
       "155179         Flashpoint 1       8      16     1     0          32.044256   \n",
       "155180  Home Sweet Home Cup       4      16     1     0          32.529155   \n",
       "155181  Home Sweet Home Cup      16      10     0     1          32.439117   \n",
       "155182    LOOT.BET Season 6      22      25     1     0          27.678086   \n",
       "155183        Cyber.Bet Cup      11      16     1     0          28.688588   \n",
       "\n",
       "        Team2_rank_before  Team1_rank_after  Team2_rank_after  \n",
       "155179          30.748435         31.938383         30.859731  \n",
       "155180          32.945705         32.439117         33.038264  \n",
       "155181          33.038264         32.545290         32.937420  \n",
       "155182          28.021915         27.589733         28.111512  \n",
       "155183          30.714839         28.617960         30.784068  "
      ]
     },
     "execution_count": 4,
     "metadata": {},
     "output_type": "execute_result"
    }
   ],
   "source": [
    "match_df.tail()"
   ]
  },
  {
   "cell_type": "markdown",
   "metadata": {},
   "source": [
    "### Target and Features:"
   ]
  },
  {
   "cell_type": "code",
   "execution_count": 5,
   "metadata": {},
   "outputs": [
    {
     "data": {
      "text/html": [
       "<div>\n",
       "<style scoped>\n",
       "    .dataframe tbody tr th:only-of-type {\n",
       "        vertical-align: middle;\n",
       "    }\n",
       "\n",
       "    .dataframe tbody tr th {\n",
       "        vertical-align: top;\n",
       "    }\n",
       "\n",
       "    .dataframe thead th {\n",
       "        text-align: right;\n",
       "    }\n",
       "</style>\n",
       "<table border=\"1\" class=\"dataframe\">\n",
       "  <thead>\n",
       "    <tr style=\"text-align: right;\">\n",
       "      <th></th>\n",
       "      <th>Date</th>\n",
       "      <th>Team1</th>\n",
       "      <th>Team2</th>\n",
       "      <th>Map</th>\n",
       "      <th>Event</th>\n",
       "      <th>Round1</th>\n",
       "      <th>Round2</th>\n",
       "      <th>Win1</th>\n",
       "      <th>Win2</th>\n",
       "      <th>Team1_rank_before</th>\n",
       "      <th>Team2_rank_before</th>\n",
       "      <th>Team1_rank_after</th>\n",
       "      <th>Team2_rank_after</th>\n",
       "    </tr>\n",
       "  </thead>\n",
       "  <tbody>\n",
       "    <tr>\n",
       "      <td>0</td>\n",
       "      <td>2012-01-11</td>\n",
       "      <td>CPLAY</td>\n",
       "      <td>dotpiXels</td>\n",
       "      <td>Mirage</td>\n",
       "      <td>ESL Pro Series Germany Winter Season 2012</td>\n",
       "      <td>6</td>\n",
       "      <td>16</td>\n",
       "      <td>1</td>\n",
       "      <td>0</td>\n",
       "      <td>0.000000</td>\n",
       "      <td>0.000000</td>\n",
       "      <td>-0.910259</td>\n",
       "      <td>7.881405</td>\n",
       "    </tr>\n",
       "    <tr>\n",
       "      <td>1</td>\n",
       "      <td>2012-01-11</td>\n",
       "      <td>dotpiXels</td>\n",
       "      <td>CPLAY</td>\n",
       "      <td>Mirage</td>\n",
       "      <td>ESL Pro Series Germany Winter Season 2012</td>\n",
       "      <td>16</td>\n",
       "      <td>6</td>\n",
       "      <td>0</td>\n",
       "      <td>1</td>\n",
       "      <td>7.881405</td>\n",
       "      <td>-0.910259</td>\n",
       "      <td>11.659386</td>\n",
       "      <td>-0.799872</td>\n",
       "    </tr>\n",
       "    <tr>\n",
       "      <td>2</td>\n",
       "      <td>2012-01-11</td>\n",
       "      <td>iPLAY</td>\n",
       "      <td>gamed!de</td>\n",
       "      <td>Train</td>\n",
       "      <td>ESL Pro Series Germany Winter Season 2012</td>\n",
       "      <td>7</td>\n",
       "      <td>16</td>\n",
       "      <td>1</td>\n",
       "      <td>0</td>\n",
       "      <td>0.000000</td>\n",
       "      <td>0.000000</td>\n",
       "      <td>-0.910259</td>\n",
       "      <td>7.881405</td>\n",
       "    </tr>\n",
       "    <tr>\n",
       "      <td>3</td>\n",
       "      <td>2012-01-11</td>\n",
       "      <td>ALTERNATE aTTaX</td>\n",
       "      <td>CPLAY</td>\n",
       "      <td>Train</td>\n",
       "      <td>ESL Pro Series Germany Winter Season 2012</td>\n",
       "      <td>16</td>\n",
       "      <td>9</td>\n",
       "      <td>0</td>\n",
       "      <td>1</td>\n",
       "      <td>0.000000</td>\n",
       "      <td>-0.799872</td>\n",
       "      <td>6.395132</td>\n",
       "      <td>-1.119980</td>\n",
       "    </tr>\n",
       "    <tr>\n",
       "      <td>4</td>\n",
       "      <td>2012-01-11</td>\n",
       "      <td>CPLAY</td>\n",
       "      <td>ALTERNATE aTTaX</td>\n",
       "      <td>Train</td>\n",
       "      <td>ESL Pro Series Germany Winter Season 2012</td>\n",
       "      <td>9</td>\n",
       "      <td>16</td>\n",
       "      <td>1</td>\n",
       "      <td>0</td>\n",
       "      <td>-1.119980</td>\n",
       "      <td>6.395132</td>\n",
       "      <td>-1.074714</td>\n",
       "      <td>9.716758</td>\n",
       "    </tr>\n",
       "  </tbody>\n",
       "</table>\n",
       "</div>"
      ],
      "text/plain": [
       "         Date            Team1            Team2     Map  \\\n",
       "0  2012-01-11            CPLAY        dotpiXels  Mirage   \n",
       "1  2012-01-11        dotpiXels            CPLAY  Mirage   \n",
       "2  2012-01-11            iPLAY         gamed!de   Train   \n",
       "3  2012-01-11  ALTERNATE aTTaX            CPLAY   Train   \n",
       "4  2012-01-11            CPLAY  ALTERNATE aTTaX   Train   \n",
       "\n",
       "                                       Event  Round1  Round2  Win1  Win2  \\\n",
       "0  ESL Pro Series Germany Winter Season 2012       6      16     1     0   \n",
       "1  ESL Pro Series Germany Winter Season 2012      16       6     0     1   \n",
       "2  ESL Pro Series Germany Winter Season 2012       7      16     1     0   \n",
       "3  ESL Pro Series Germany Winter Season 2012      16       9     0     1   \n",
       "4  ESL Pro Series Germany Winter Season 2012       9      16     1     0   \n",
       "\n",
       "   Team1_rank_before  Team2_rank_before  Team1_rank_after  Team2_rank_after  \n",
       "0           0.000000           0.000000         -0.910259          7.881405  \n",
       "1           7.881405          -0.910259         11.659386         -0.799872  \n",
       "2           0.000000           0.000000         -0.910259          7.881405  \n",
       "3           0.000000          -0.799872          6.395132         -1.119980  \n",
       "4          -1.119980           6.395132         -1.074714          9.716758  "
      ]
     },
     "execution_count": 5,
     "metadata": {},
     "output_type": "execute_result"
    }
   ],
   "source": [
    "match_df.head()"
   ]
  },
  {
   "cell_type": "code",
   "execution_count": 6,
   "metadata": {},
   "outputs": [],
   "source": [
    "# change date to datetime to access years\n",
    "match_df['year'] = pd.to_datetime(match_df.Date).dt.year"
   ]
  },
  {
   "cell_type": "code",
   "execution_count": 7,
   "metadata": {},
   "outputs": [],
   "source": [
    "# Drop columns that will we will not use as features\n",
    "# selecting dates of 2018 - 2020\n",
    "X = match_df[match_df.year >= 2018].drop(columns=['Date', 'Event', 'Win1', 'Win2', 'Team1_rank_after', 'Team2_rank_after'])"
   ]
  },
  {
   "cell_type": "code",
   "execution_count": 8,
   "metadata": {},
   "outputs": [],
   "source": [
    "# target 'Win1' \n",
    "# year 2018-2020\n",
    "y = match_df[match_df.year >= 2018][['Win1']]"
   ]
  },
  {
   "cell_type": "code",
   "execution_count": 9,
   "metadata": {},
   "outputs": [],
   "source": [
    "Rounds = X[['Round1', 'Round2']]\n",
    "X = X[['Team1_rank_before', 'Team2_rank_before', 'Map', 'Team1', 'Team2', 'year']]"
   ]
  },
  {
   "cell_type": "code",
   "execution_count": 10,
   "metadata": {},
   "outputs": [
    {
     "data": {
      "text/html": [
       "<div>\n",
       "<style scoped>\n",
       "    .dataframe tbody tr th:only-of-type {\n",
       "        vertical-align: middle;\n",
       "    }\n",
       "\n",
       "    .dataframe tbody tr th {\n",
       "        vertical-align: top;\n",
       "    }\n",
       "\n",
       "    .dataframe thead th {\n",
       "        text-align: right;\n",
       "    }\n",
       "</style>\n",
       "<table border=\"1\" class=\"dataframe\">\n",
       "  <thead>\n",
       "    <tr style=\"text-align: right;\">\n",
       "      <th></th>\n",
       "      <th>Team1_rank_before</th>\n",
       "      <th>Team2_rank_before</th>\n",
       "      <th>Map</th>\n",
       "      <th>Team1</th>\n",
       "      <th>Team2</th>\n",
       "      <th>year</th>\n",
       "    </tr>\n",
       "  </thead>\n",
       "  <tbody>\n",
       "    <tr>\n",
       "      <td>81396</td>\n",
       "      <td>21.861599</td>\n",
       "      <td>30.270955</td>\n",
       "      <td>Inferno</td>\n",
       "      <td>LFAO</td>\n",
       "      <td>Rise Nation</td>\n",
       "      <td>2018</td>\n",
       "    </tr>\n",
       "    <tr>\n",
       "      <td>81397</td>\n",
       "      <td>27.185014</td>\n",
       "      <td>23.241208</td>\n",
       "      <td>Overpass</td>\n",
       "      <td>Wololos</td>\n",
       "      <td>Berzerk</td>\n",
       "      <td>2018</td>\n",
       "    </tr>\n",
       "    <tr>\n",
       "      <td>81398</td>\n",
       "      <td>28.812271</td>\n",
       "      <td>23.612839</td>\n",
       "      <td>Inferno</td>\n",
       "      <td>MANS NOT HOT</td>\n",
       "      <td>forZe</td>\n",
       "      <td>2018</td>\n",
       "    </tr>\n",
       "    <tr>\n",
       "      <td>81399</td>\n",
       "      <td>28.681784</td>\n",
       "      <td>26.828720</td>\n",
       "      <td>Overpass</td>\n",
       "      <td>PRIDE</td>\n",
       "      <td>Tricked</td>\n",
       "      <td>2018</td>\n",
       "    </tr>\n",
       "    <tr>\n",
       "      <td>81400</td>\n",
       "      <td>32.215314</td>\n",
       "      <td>0.000000</td>\n",
       "      <td>Mirage</td>\n",
       "      <td>Space Soldiers</td>\n",
       "      <td>PressZ</td>\n",
       "      <td>2018</td>\n",
       "    </tr>\n",
       "  </tbody>\n",
       "</table>\n",
       "</div>"
      ],
      "text/plain": [
       "       Team1_rank_before  Team2_rank_before       Map           Team1  \\\n",
       "81396          21.861599          30.270955   Inferno            LFAO   \n",
       "81397          27.185014          23.241208  Overpass         Wololos   \n",
       "81398          28.812271          23.612839   Inferno    MANS NOT HOT   \n",
       "81399          28.681784          26.828720  Overpass           PRIDE   \n",
       "81400          32.215314           0.000000    Mirage  Space Soldiers   \n",
       "\n",
       "             Team2  year  \n",
       "81396  Rise Nation  2018  \n",
       "81397      Berzerk  2018  \n",
       "81398        forZe  2018  \n",
       "81399      Tricked  2018  \n",
       "81400       PressZ  2018  "
      ]
     },
     "execution_count": 10,
     "metadata": {},
     "output_type": "execute_result"
    }
   ],
   "source": [
    "X.head()"
   ]
  },
  {
   "cell_type": "code",
   "execution_count": 11,
   "metadata": {},
   "outputs": [
    {
     "data": {
      "text/html": [
       "<div>\n",
       "<style scoped>\n",
       "    .dataframe tbody tr th:only-of-type {\n",
       "        vertical-align: middle;\n",
       "    }\n",
       "\n",
       "    .dataframe tbody tr th {\n",
       "        vertical-align: top;\n",
       "    }\n",
       "\n",
       "    .dataframe thead th {\n",
       "        text-align: right;\n",
       "    }\n",
       "</style>\n",
       "<table border=\"1\" class=\"dataframe\">\n",
       "  <thead>\n",
       "    <tr style=\"text-align: right;\">\n",
       "      <th></th>\n",
       "      <th>Team1_rank_before</th>\n",
       "      <th>Team2_rank_before</th>\n",
       "      <th>Map</th>\n",
       "      <th>Team1</th>\n",
       "      <th>Team2</th>\n",
       "      <th>year</th>\n",
       "      <th>Map1</th>\n",
       "      <th>Map2</th>\n",
       "      <th>year1</th>\n",
       "      <th>year2</th>\n",
       "    </tr>\n",
       "  </thead>\n",
       "  <tbody>\n",
       "    <tr>\n",
       "      <td>81396</td>\n",
       "      <td>21.861599</td>\n",
       "      <td>30.270955</td>\n",
       "      <td>Inferno</td>\n",
       "      <td>LFAO</td>\n",
       "      <td>Rise Nation</td>\n",
       "      <td>2018</td>\n",
       "      <td>Inferno_LFAO</td>\n",
       "      <td>Inferno_Rise Nation</td>\n",
       "      <td>2018_LFAO</td>\n",
       "      <td>2018_Rise Nation</td>\n",
       "    </tr>\n",
       "    <tr>\n",
       "      <td>81397</td>\n",
       "      <td>27.185014</td>\n",
       "      <td>23.241208</td>\n",
       "      <td>Overpass</td>\n",
       "      <td>Wololos</td>\n",
       "      <td>Berzerk</td>\n",
       "      <td>2018</td>\n",
       "      <td>Overpass_Wololos</td>\n",
       "      <td>Overpass_Berzerk</td>\n",
       "      <td>2018_Wololos</td>\n",
       "      <td>2018_Berzerk</td>\n",
       "    </tr>\n",
       "    <tr>\n",
       "      <td>81398</td>\n",
       "      <td>28.812271</td>\n",
       "      <td>23.612839</td>\n",
       "      <td>Inferno</td>\n",
       "      <td>MANS NOT HOT</td>\n",
       "      <td>forZe</td>\n",
       "      <td>2018</td>\n",
       "      <td>Inferno_MANS NOT HOT</td>\n",
       "      <td>Inferno_forZe</td>\n",
       "      <td>2018_MANS NOT HOT</td>\n",
       "      <td>2018_forZe</td>\n",
       "    </tr>\n",
       "    <tr>\n",
       "      <td>81399</td>\n",
       "      <td>28.681784</td>\n",
       "      <td>26.828720</td>\n",
       "      <td>Overpass</td>\n",
       "      <td>PRIDE</td>\n",
       "      <td>Tricked</td>\n",
       "      <td>2018</td>\n",
       "      <td>Overpass_PRIDE</td>\n",
       "      <td>Overpass_Tricked</td>\n",
       "      <td>2018_PRIDE</td>\n",
       "      <td>2018_Tricked</td>\n",
       "    </tr>\n",
       "    <tr>\n",
       "      <td>81400</td>\n",
       "      <td>32.215314</td>\n",
       "      <td>0.000000</td>\n",
       "      <td>Mirage</td>\n",
       "      <td>Space Soldiers</td>\n",
       "      <td>PressZ</td>\n",
       "      <td>2018</td>\n",
       "      <td>Mirage_Space Soldiers</td>\n",
       "      <td>Mirage_PressZ</td>\n",
       "      <td>2018_Space Soldiers</td>\n",
       "      <td>2018_PressZ</td>\n",
       "    </tr>\n",
       "  </tbody>\n",
       "</table>\n",
       "</div>"
      ],
      "text/plain": [
       "       Team1_rank_before  Team2_rank_before       Map           Team1  \\\n",
       "81396          21.861599          30.270955   Inferno            LFAO   \n",
       "81397          27.185014          23.241208  Overpass         Wololos   \n",
       "81398          28.812271          23.612839   Inferno    MANS NOT HOT   \n",
       "81399          28.681784          26.828720  Overpass           PRIDE   \n",
       "81400          32.215314           0.000000    Mirage  Space Soldiers   \n",
       "\n",
       "             Team2  year                   Map1                 Map2  \\\n",
       "81396  Rise Nation  2018           Inferno_LFAO  Inferno_Rise Nation   \n",
       "81397      Berzerk  2018       Overpass_Wololos     Overpass_Berzerk   \n",
       "81398        forZe  2018   Inferno_MANS NOT HOT        Inferno_forZe   \n",
       "81399      Tricked  2018         Overpass_PRIDE     Overpass_Tricked   \n",
       "81400       PressZ  2018  Mirage_Space Soldiers        Mirage_PressZ   \n",
       "\n",
       "                     year1             year2  \n",
       "81396            2018_LFAO  2018_Rise Nation  \n",
       "81397         2018_Wololos      2018_Berzerk  \n",
       "81398    2018_MANS NOT HOT        2018_forZe  \n",
       "81399           2018_PRIDE      2018_Tricked  \n",
       "81400  2018_Space Soldiers       2018_PressZ  "
      ]
     },
     "execution_count": 11,
     "metadata": {},
     "output_type": "execute_result"
    }
   ],
   "source": [
    "# applying the map name to team names can help us add weight evidence\n",
    "\n",
    "X['Map1'] = X['Map'] + \"_\" + X['Team1']\n",
    "X['Map2'] = X['Map'] + \"_\" + X['Team2']\n",
    "X['year1'] = X['year'].astype(str) + \"_\" + X['Team1']\n",
    "X['year2'] = X['year'].astype(str) + \"_\" + X['Team2']\n",
    "X.head()"
   ]
  },
  {
   "cell_type": "markdown",
   "metadata": {},
   "source": [
    "### LogisitcRegression Model: Baseline"
   ]
  },
  {
   "cell_type": "code",
   "execution_count": 12,
   "metadata": {},
   "outputs": [],
   "source": [
    "# importing cross_val_score and encoders\n",
    "from sklearn.model_selection import cross_val_score, cross_val_predict\n",
    "from category_encoders import WOEEncoder, TargetEncoder"
   ]
  },
  {
   "cell_type": "code",
   "execution_count": 13,
   "metadata": {},
   "outputs": [
    {
     "name": "stdout",
     "output_type": "stream",
     "text": [
      "0.6881795495712288 +/- 0.010938351641737874\n"
     ]
    }
   ],
   "source": [
    "cat_cols = ['Map', 'Team1', 'Team2', 'Map1', 'Map2', 'year', 'year1', 'year2']\n",
    "\n",
    "encoder = WOEEncoder(cols=cat_cols, random_state=42, regularization=100.0)\n",
    "# encoder = TargetEncoder(cols=cat_cols, smoothing=1.0)\n",
    "\n",
    "clf = LogisticRegression(class_weight='balanced', penalty='l2', C=1000.0, random_state=42)\n",
    "pipe = make_pipeline(encoder, clf)\n",
    "\n",
    "scores = cross_val_score(pipe, X, y, cv=4, scoring='roc_auc', n_jobs=-1)\n",
    "print(scores.mean(), \"+/-\", scores.std())"
   ]
  },
  {
   "cell_type": "markdown",
   "metadata": {},
   "source": [
    "#### LogisticRegression Score: roc_auc\n",
    "- WOEEncoder: 0.6881795495712288 +/- 0.010938351641737874\n",
    "- TargetEncoder: 0.6413512213102515 +/- 0.013460729361830844"
   ]
  },
  {
   "cell_type": "markdown",
   "metadata": {},
   "source": [
    "### MLPClassifier Model"
   ]
  },
  {
   "cell_type": "code",
   "execution_count": 14,
   "metadata": {},
   "outputs": [
    {
     "name": "stdout",
     "output_type": "stream",
     "text": [
      "0.6911381828355767 +/- 0.005824037287760796\n"
     ]
    }
   ],
   "source": [
    "from sklearn.neural_network import MLPClassifier\n",
    "\n",
    "encoder = WOEEncoder(cols=cat_cols, random_state=42, regularization=100.0)\n",
    "# encoder = TargetEncoder(cols=cat_cols, smoothing=1.0)\n",
    "\n",
    "mlp = MLPClassifier()\n",
    "pipe = make_pipeline(encoder, mlp)\n",
    "\n",
    "scores = cross_val_score(pipe, X, y, cv=4, scoring='roc_auc', n_jobs=-1)\n",
    "print(scores.mean(), \"+/-\", scores.std())"
   ]
  },
  {
   "cell_type": "markdown",
   "metadata": {},
   "source": [
    "#### MLPClassifier Score: roc_auc\n",
    "- WOEEncoder: 0.6879183676784671 +/- 0.01063988084681767\n",
    "- TargetEncoder: 0.6452689849655524 +/- 0.01288933105862556"
   ]
  },
  {
   "cell_type": "markdown",
   "metadata": {},
   "source": [
    "### GaussianNB Model"
   ]
  },
  {
   "cell_type": "code",
   "execution_count": 15,
   "metadata": {},
   "outputs": [
    {
     "name": "stdout",
     "output_type": "stream",
     "text": [
      "0.6691701696624975 +/- 0.014403696049604016\n"
     ]
    }
   ],
   "source": [
    "from sklearn.naive_bayes import GaussianNB\n",
    "\n",
    "encoder = WOEEncoder(cols=cat_cols, random_state=42, regularization=100.0)\n",
    "# encoder = TargetEncoder(cols=cat_cols, smoothing=1.0)\n",
    "\n",
    "nb = GaussianNB()\n",
    "pipe = make_pipeline(encoder, nb)\n",
    "\n",
    "scores = cross_val_score(pipe, X, y, cv=4, scoring='roc_auc', n_jobs=-1)\n",
    "print(scores.mean(), \"+/-\", scores.std())"
   ]
  },
  {
   "cell_type": "markdown",
   "metadata": {},
   "source": [
    "#### GaussianNB Score: roc_auc\n",
    "- WOEEncoder: 0.6691701696624975 +/- 0.014403696049604016\n",
    "- TargetEncoder: 0.6305848251598253 +/- 0.01675969967268323"
   ]
  },
  {
   "cell_type": "markdown",
   "metadata": {},
   "source": [
    "### GradientBoostingClassifier Model"
   ]
  },
  {
   "cell_type": "code",
   "execution_count": 16,
   "metadata": {},
   "outputs": [
    {
     "name": "stdout",
     "output_type": "stream",
     "text": [
      "0.6685865539948235 +/- 0.012148134771776169\n"
     ]
    }
   ],
   "source": [
    "from sklearn.ensemble import GradientBoostingClassifier\n",
    "\n",
    "encoder = WOEEncoder(cols=cat_cols, random_state=42, regularization=100.0)\n",
    "\n",
    "gb_class = GradientBoostingClassifier(n_estimators=100,\n",
    "                                 learning_rate=0.1, random_state=42, \n",
    "                                 max_depth=4, max_features=5)\n",
    "\n",
    "pipe = make_pipeline(encoder, gb_class)\n",
    "\n",
    "scores = cross_val_score(pipe, X, y, cv=4, scoring='roc_auc', n_jobs=-1)\n",
    "print(scores.mean(), \"+/-\", scores.std())"
   ]
  },
  {
   "cell_type": "markdown",
   "metadata": {},
   "source": [
    "#### GradientBoostingClassifier score: roc_auc\n",
    "- WOEEncoder: 0.6685865539948235 +/- 0.012148134771776169"
   ]
  },
  {
   "cell_type": "markdown",
   "metadata": {},
   "source": [
    "### RandomForestClassifier Model"
   ]
  },
  {
   "cell_type": "code",
   "execution_count": 17,
   "metadata": {},
   "outputs": [
    {
     "name": "stdout",
     "output_type": "stream",
     "text": [
      "0.6700351028957565 +/- 0.01411245013550776\n"
     ]
    }
   ],
   "source": [
    "from sklearn.ensemble import RandomForestClassifier\n",
    "\n",
    "rf = RandomForestClassifier(class_weight='balanced',\n",
    "                            criterion='entropy', max_depth=10, max_features=6,\n",
    "                            min_samples_leaf=4, min_samples_split=5,\n",
    "                            n_estimators=100, n_jobs=-1, random_state=42)\n",
    "\n",
    "encoder = encoder = WOEEncoder(cols=cat_cols, random_state=42, regularization=100.0)\n",
    "\n",
    "pipe = make_pipeline(encoder, rf)\n",
    "\n",
    "scores = cross_val_score(pipe, X, y, cv=4, scoring='roc_auc', n_jobs=-1)\n",
    "print(scores.mean(), \"+/-\", scores.std())"
   ]
  },
  {
   "cell_type": "markdown",
   "metadata": {},
   "source": [
    "#### RandomForestClassifier score: roc_auc\n",
    "- WOEEncoder: 0.6700351028957565 +/- 0.01411245013550776"
   ]
  },
  {
   "cell_type": "markdown",
   "metadata": {},
   "source": [
    "### SVC Model"
   ]
  },
  {
   "cell_type": "code",
   "execution_count": 18,
   "metadata": {},
   "outputs": [
    {
     "name": "stdout",
     "output_type": "stream",
     "text": [
      "0.7182492794179711 0.010353615703909136\n"
     ]
    }
   ],
   "source": [
    "from sklearn.svm import SVC\n",
    "\n",
    "encoder = WOEEncoder(cols=cat_cols, random_state=42, regularization=100.0)\n",
    "# encoder = TargetEncoder(cols=cat_cols, smoothing=1.0)\n",
    "\n",
    "svc = SVC(class_weight='balanced', random_state=42, probability=True, C=1.0)\n",
    "pipe = make_pipeline(encoder, svc)\n",
    "\n",
    "scores = cross_val_score(pipe, X, y, cv=4, scoring='roc_auc', n_jobs=-1)\n",
    "print(scores.mean(), scores.std())"
   ]
  },
  {
   "cell_type": "code",
   "execution_count": 20,
   "metadata": {},
   "outputs": [
    {
     "data": {
      "image/png": "[encoded data removed]",
      "text/plain": [
       "<Figure size 432x288 with 2 Axes>"
      ]
     },
     "metadata": {
      "needs_background": "light"
     },
     "output_type": "display_data"
    }
   ],
   "source": [
    "# here is a data visualization of type I and type II errors\n",
    "\n",
    "pipe.fit(X, y)\n",
    "plot_confusion_matrix(pipe, X, y, cmap=plt.cm.Blues, values_format=\"1g\")\n",
    "plt.grid(False);"
   ]
  },
  {
   "cell_type": "markdown",
   "metadata": {},
   "source": [
    "#### SVC score: roc_auc\n",
    "- WOEEncoder: 0.7182492794179711, 0.010353615703909136\n",
    "- TargetEncoder: (0.7038816481573638, 0.012210116405800222)"
   ]
  },
  {
   "cell_type": "markdown",
   "metadata": {},
   "source": [
    "### Altering Train/Test data:\n",
    "- Using year 2012 - 2018 as training data.\n",
    "- Validate on year 2019 - present.\n",
    "- Checking to see if this improves our score."
   ]
  },
  {
   "cell_type": "code",
   "execution_count": 21,
   "metadata": {},
   "outputs": [],
   "source": [
    "# setting training data from 2012-2018\n",
    "# setting testing data 2019-present\n",
    "\n",
    "X_train, y_train = X[X.year <= 2018], y[X.year <= 2018]\n",
    "X_test, y_test = X[X.year >= 2019], y[X.year >= 2019]"
   ]
  },
  {
   "cell_type": "code",
   "execution_count": 22,
   "metadata": {},
   "outputs": [
    {
     "data": {
      "text/plain": [
       "0.6329958754457825"
      ]
     },
     "execution_count": 22,
     "metadata": {},
     "output_type": "execute_result"
    }
   ],
   "source": [
    "# train and test using LogReg model\n",
    "\n",
    "encoder = WOEEncoder(cols=cat_cols, random_state=42, regularization=100.0)\n",
    "\n",
    "clf = LogisticRegression(class_weight='balanced', penalty='l2', C=1000.0, random_state=42)\n",
    "pipe = make_pipeline(encoder, clf)\n",
    "\n",
    "pipe.fit(X_train, y_train)\n",
    "prediction = pipe.predict(X_test)\n",
    "\n",
    "roc_auc_score(y_test, prediction)"
   ]
  },
  {
   "cell_type": "code",
   "execution_count": 23,
   "metadata": {},
   "outputs": [
    {
     "data": {
      "text/plain": [
       "0.6330007876082961"
      ]
     },
     "execution_count": 23,
     "metadata": {},
     "output_type": "execute_result"
    }
   ],
   "source": [
    "accuracy_score(y_test, prediction)"
   ]
  },
  {
   "cell_type": "code",
   "execution_count": 24,
   "metadata": {},
   "outputs": [
    {
     "data": {
      "text/plain": [
       "0.6545024264090573"
      ]
     },
     "execution_count": 24,
     "metadata": {},
     "output_type": "execute_result"
    }
   ],
   "source": [
    "# train and test on SVC model\n",
    "\n",
    "svc = SVC(class_weight='balanced', random_state=42, probability=True, C=1.0)\n",
    "pipe = make_pipeline(encoder, svc)\n",
    "\n",
    "pipe.fit(X_train, y_train)\n",
    "prediction = pipe.predict(X_test)\n",
    "\n",
    "roc_auc_score(y_test, prediction)"
   ]
  },
  {
   "cell_type": "code",
   "execution_count": 25,
   "metadata": {
    "scrolled": true
   },
   "outputs": [
    {
     "data": {
      "image/png": "[encoded data removed]",
      "text/plain": [
       "<Figure size 432x288 with 2 Axes>"
      ]
     },
     "metadata": {
      "needs_background": "light"
     },
     "output_type": "display_data"
    }
   ],
   "source": [
    "# plotting confusion matrix\n",
    "plot_confusion_matrix(pipe, X_test, y_test, cmap=plt.cm.Blues, values_format=\"1g\")\n",
    "plt.grid(False);"
   ]
  },
  {
   "cell_type": "markdown",
   "metadata": {},
   "source": [
    "#### Our score did not improve. "
   ]
  },
  {
   "cell_type": "markdown",
   "metadata": {},
   "source": [
    "## Summary:\n",
    "\n",
    "#### Model scores:\n",
    "* LogisticRegression\n",
    "    * 0.6881795495712288 +/- 0.010938351641737874\n",
    "* MLPClassifier\n",
    "    * 0.6827874855700221 +/- 0.01183400959200604\n",
    "* GaussianNB\n",
    "    * 0.6691701696624975 +/- 0.014403696049604016\n",
    "* GradientBoostingClassifier\n",
    "    * 0.668092263192733 +/- 0.012204276650242646\n",
    "* RandomForestClassifier\n",
    "    * 0.6700351028957565 +/- 0.01411245013550776\n",
    "* Support Vector Machine(Classifier) SVC\n",
    "    * (0.7182492794179711, 0.010353615703909136)\n",
    "\n",
    "#### Best Scores:\n",
    "* LogisticRegression (68.8%)\n",
    "    * 0.6881795495712288 +/- 0.010938351641737874\n",
    "* MLPClassifier (68.3%)\n",
    "    * 0.6827874855700221 +/- 0.01183400959200604\n",
    "* Support Vector Machine(Classifier) SVC (71.8%)   <-- BEST SCORE\n",
    "    * 0.7182492794179711 +/- 0.010353615703909136\n",
    "    \n",
    "#### Understanding and Findings:\n",
    "- Most of the models were not able to predict above 71% roc_auc.\n",
    "- Features were only based on rank and win/lose.\n",
    "- Error occured when lower ranked teams beat higher ranked teams.\n",
    "\n",
    "#### Improvements:\n",
    "- Need more data and features.\n",
    "- Rating and ranking players for each team.\n",
    "    - this will help identify clutching ability (ability to win against overwhelming odds)\n",
    "    - player skills weight will factor towards prediction.\n",
    "    - player map/weapon/utility advantages.\n",
    "- Account for players changing to a different team.\n",
    "    - new players to teams can change the team avg rating.\n",
    "    - this could improve or decrease team performance."
   ]
  },
  {
   "cell_type": "code",
   "execution_count": null,
   "metadata": {},
   "outputs": [],
   "source": []
  }
 ],
 "metadata": {
  "kernelspec": {
   "display_name": "Python 3",
   "language": "python",
   "name": "python3"
  },
  "language_info": {
   "codemirror_mode": {
    "name": "ipython",
    "version": 3
   },
   "file_extension": ".py",
   "mimetype": "text/x-python",
   "name": "python",
   "nbconvert_exporter": "python",
   "pygments_lexer": "ipython3",
   "version": "3.6.9"
  }
 },
 "nbformat": 4,
 "nbformat_minor": 2
}
